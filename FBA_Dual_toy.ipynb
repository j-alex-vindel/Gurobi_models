{
 "cells": [
  {
   "cell_type": "markdown",
   "metadata": {},
   "source": [
    "# The model represents a primal then its dual #"
   ]
  },
  {
   "cell_type": "code",
   "execution_count": 1,
   "metadata": {},
   "outputs": [],
   "source": [
    "# Libraries to import\n",
    "import gurobipy as gp\n",
    "import itertools\n",
    "from gurobipy import GRB\n",
    "import numpy as np"
   ]
  },
  {
   "cell_type": "code",
   "execution_count": 2,
   "metadata": {},
   "outputs": [],
   "source": [
    "met = ['A','B','C','D','E']\n",
    "\n",
    "reac = ['v1','v2','v3','v4','v5','v6','v7']\n",
    "\n",
    "LB =[0,-10,0,0,-10,-10,-10]\n",
    "UB =[10,10,10,10,10,10,10]\n",
    "\n",
    "SeM = {('A','v1'):-1,('A','v2'):0,('A','v3'):1,('A','v4'):0,('A','v5'):0,('A','v6'):0,('A','v7'):0,\n",
    "       ('B','v1'):1,('B','v2'):-1,('B','v3'):0,('B','v4'):-1,('B','v5'):0,('B','v6'):0,('B','v7'):0,\n",
    "       ('C','v1'):0,('C','v2'):1,('C','v3'):0,('C','v4'):0,('C','v5'):1,('C','v6'):0,('C','v7'):0,\n",
    "       ('D','v1'):-1,('D','v2'):0,('D','v3'):0,('D','v4'):0,('D','v5'):0,('D','v6'):1,('D','v7'):0,\n",
    "       ('E','v1'):1,('E','v2'):0,('E','v3'):0,('E','v4'):0,('E','v5'):0,('E','v6'):0,('E','v7'):1}"
   ]
  },
  {
   "cell_type": "code",
   "execution_count": 3,
   "metadata": {},
   "outputs": [],
   "source": [
    "LBR = dict(zip(reac,LB))\n",
    "UBR = dict(zip(reac,UB))"
   ]
  },
  {
   "cell_type": "code",
   "execution_count": 4,
   "metadata": {},
   "outputs": [
    {
     "name": "stdout",
     "output_type": "stream",
     "text": [
      "Using license file C:\\Users\\alexa\\gurobi.lic\n",
      "Academic license - for non-commercial use only - expires 2021-09-12\n",
      "Gurobi Optimizer version 9.1.0 build v9.1.0rc0 (win64)\n",
      "Thread count: 4 physical cores, 8 logical processors, using up to 8 threads\n",
      "Optimize a model with 19 rows, 7 columns and 25 nonzeros\n",
      "Model fingerprint: 0xc9205916\n",
      "Coefficient statistics:\n",
      "  Matrix range     [1e+00, 1e+00]\n",
      "  Objective range  [1e+00, 1e+00]\n",
      "  Bounds range     [0e+00, 0e+00]\n",
      "  RHS range        [1e+01, 1e+01]\n",
      "Presolve removed 19 rows and 7 columns\n",
      "Presolve time: 0.00s\n",
      "Presolve: All rows and columns removed\n",
      "Iteration    Objective       Primal Inf.    Dual Inf.      Time\n",
      "       0    1.0000000e+01   0.000000e+00   0.000000e+00      0s\n",
      "\n",
      "Solved in 0 iterations and 0.00 seconds\n",
      "Optimal objective  1.000000000e+01\n",
      "Max v4 Flux -> 10.0\n",
      "------>\n",
      "flux: v1 -> 0.0\n",
      "flux: v2 -> -10.0\n",
      "flux: v3 -> 0.0\n",
      "flux: v4 -> 10.0\n",
      "flux: v5 -> 10.0\n",
      "flux: v6 -> 0.0\n",
      "flux: v7 -> 0.0\n"
     ]
    }
   ],
   "source": [
    "ob = [0,0,0,1,0,0,0]\n",
    "m = gp.Model()\n",
    "\n",
    "# Add Variables\n",
    "\n",
    "v = m.addVars(reac,lb=-GRB.INFINITY,ub=GRB.INFINITY, obj=ob, name='v')\n",
    "\n",
    "m.modelSense = GRB.MAXIMIZE\n",
    "\n",
    "# Add Constr\n",
    "\n",
    "\n",
    "m.addConstrs((gp.quicksum(SeM[i,j] * v[j] for j in reac) == 0 for i in met), name='FBA')\n",
    "    \n",
    "m.addConstrs((LBR[j] <= v[j] for j in reac), name='LB')\n",
    "\n",
    "m.addConstrs((v[j] <= UBR[j] for j in reac), name='UB')\n",
    "\n",
    "\n",
    "m.optimize()\n",
    "#m.write('SolFBA_toy.lp')\n",
    "\n",
    "if m.status == GRB.INFEASIBLE:\n",
    "    m.computeIIS()\n",
    "    m.write('FBA_toy3.ilp')  # \n",
    "\n",
    "if m.status == GRB.OPTIMAL:\n",
    "    obj = m.getObjective()\n",
    "    print('Max v4 Flux','->',obj.getValue())\n",
    "    var = m.getAttr('X',m.getVars())\n",
    "    duals = m.getAttr(\"Pi\", m.getConstrs())\n",
    "    const = m.getConstrs()\n",
    "    print('------>')\n",
    "    for i in range(len(reac)):\n",
    "        print('flux:',reac[i],'->',var[i])\n",
    "     "
   ]
  },
  {
   "cell_type": "code",
   "execution_count": 99,
   "metadata": {},
   "outputs": [
    {
     "name": "stdout",
     "output_type": "stream",
     "text": [
      "Gurobi Optimizer version 9.1.0 build v9.1.0rc0 (win64)\n",
      "Thread count: 4 physical cores, 8 logical processors, using up to 8 threads\n",
      "Optimize a model with 63 rows, 34 columns and 96 nonzeros\n",
      "Model fingerprint: 0x022993f8\n",
      "Coefficient statistics:\n",
      "  Matrix range     [1e+00, 1e+00]\n",
      "  Objective range  [1e+01, 1e+01]\n",
      "  Bounds range     [0e+00, 0e+00]\n",
      "  RHS range        [1e+00, 1e+01]\n",
      "Presolve removed 63 rows and 34 columns\n",
      "Presolve time: 0.01s\n",
      "Presolve: All rows and columns removed\n",
      "Iteration    Objective       Primal Inf.    Dual Inf.      Time\n",
      "       0    1.0000000e+01   0.000000e+00   0.000000e+00      0s\n",
      "\n",
      "Solved in 0 iterations and 0.01 seconds\n",
      "Optimal objective  1.000000000e+01\n"
     ]
    }
   ],
   "source": [
    "import gurobipy as gp\n",
    "from gurobipy import GRB\n",
    "import numpy as np\n",
    "ob = [0,0,0,1,0,0,0]\n",
    "b = [0,0,0,0,0]\n",
    "S = np.array([[-1,0,1,0,0,0,0],\n",
    "              [1,-1,0,-1,0,0,0],\n",
    "              [0,1,0,0,1,0,0],\n",
    "              [-1,0,0,0,0,1,0],\n",
    "              [1,0,0,0,0,0,1]]) #transpose the matrix\n",
    "LB =[0,-10,0,0,-10,-10,-10]\n",
    "UB =[10,10,10,10,10,10,10]\n",
    "yj =[1,1,1,1,1,1,1]\n",
    "\n",
    "d = gp.Model()\n",
    "meta = [i for i in range(len(b))]\n",
    "react = [i for i in range(len(ob))]\n",
    "\n",
    "# Add Variables\n",
    "    # lambda\n",
    "l = d.addVars(meta,lb=-GRB.INFINITY,ub=GRB.INFINITY, vtype=GRB.CONTINUOUS, name='lambda')\n",
    "    # mu and rho\n",
    "m = d.addVars(react,lb=-GRB.INFINITY,ub=GRB.INFINITY, vtype=GRB.CONTINUOUS,name='mu')\n",
    "p = d.addVars(react,lb=-GRB.INFINITY,ub=GRB.INFINITY, vtype=GRB.CONTINUOUS,name='rho')\n",
    "    # gamma and omega\n",
    "g = d.addVars(react,lb=-GRB.INFINITY,ub=GRB.INFINITY, vtype=GRB.CONTINUOUS,name='gamma')\n",
    "o = d.addVars(react,lb=-GRB.INFINITY,ub=GRB.INFINITY, vtype=GRB.CONTINUOUS,name='omega')\n",
    "    # eta\n",
    "e = d.addVar(lb=-GRB.INFINITY,ub=GRB.INFINITY,name='eta')\n",
    "\n",
    "\n",
    "#d.setObjective((sum(b[i]*l[i] for i in meta)\n",
    "                #- sum(LB[j]*g[j] for j in react)\n",
    "                #+ sum(UB[j]*o[j] for j in react)\n",
    "                #- 10*e),GRB.MINIMIZE)\n",
    "\n",
    "d.setObjective((-sum(LB[j]*g[j] for j in react) + sum(UB[j]*o[j] for j in react) - 10*e),GRB.MINIMIZE)\n",
    "\n",
    "# Add Constrs \n",
    "\n",
    "d.addConstrs((gp.quicksum(S.transpose()[i,j]*l[j] for j in meta)\n",
    "              - m[i] \n",
    "              + p[i] \n",
    "               == ob[i] for i in react if i !=3)\n",
    "             ,name='S_dual')\n",
    "\n",
    "d.addConstr((gp.quicksum(S.transpose()[3,j]*l[j] for j in meta) \n",
    "            - m[3]\n",
    "            + p[3]\n",
    "            - e == ob[3]), name='Sdual_t') # \n",
    "\n",
    "# mu yj linearization\n",
    "\n",
    "d.addConstrs((LB[j]*yj[j] <= g[j] for j in react),name='LB_gamma')\n",
    "d.addConstrs((g[j] <= UB[j]*yj[j] for j in react),name='UB_gamma')\n",
    "\n",
    "\n",
    "d.addConstrs((LB[j]*(1-yj[j]) <= m[j] for j in react),name='lb-m')\n",
    "\n",
    "d.addConstrs((m[j] <= UB[j]*(1-yj[j])+g[j] for j in react), name='m-g')\n",
    "\n",
    "# rho yj linearization\n",
    "\n",
    "d.addConstrs((LB[j]*yj[j] <= o[j] for j in react),name='LB_omega')\n",
    "d.addConstrs((o[j] <= UB[j]*yj[j] for j in react),name='UB_omega')\n",
    "\n",
    "\n",
    "d.addConstrs((LB[j]*(1-yj[j]) <= p[j] for j in react),name='lb-p')\n",
    "\n",
    "d.addConstrs((p[j] <= UB[j]*(1-yj[j])+o[j] for j in react), name='p-o')\n",
    "\n",
    "\n",
    "\n",
    "#d.write('DUAL_FBA_toy6.lp')\n",
    "\n",
    "d.optimize()\n",
    "\n",
    "\n",
    "#if d.status == GRB.OPTIMAL:\n",
    "    #obj = d.getObjective()\n",
    "    #print('Max v4 Flux','->',obj.getValue())\n",
    "    #vari = d.getAttr('X',d.getVars())\n",
    "    #d_duals = d.getAttr(\"Pi\", d.getConstrs())\n",
    "    #print('------>')\n",
    "    #for i in range(len(reac)):\n",
    "        #print('flux:',reac[i],'->',var[i])\n",
    "\n",
    "#if d.status in (GRB.INFEASIBLE,GRB.INF_OR_UNBD,GRB.UNBOUNDED):\n",
    "    #d.computeIIS()\n",
    "    #if d.IISMinimal:\n",
    "        #print('IIS is minimal\\n')\n",
    "    #else:\n",
    "        #print('IIS is not minimal\\n')\n",
    "        #print('\\nThe folllowing constraint(s) cannot be satisfied:')\n",
    "    #for c in d.getConstrs():\n",
    "        #if c.IISConstr:\n",
    "            #print('%s'%d.constrName)\n",
    "\n",
    "\n",
    "#if m.status == GRB.INFEASIBLE:\n",
    "    #m.computeIIS()\n",
    "    #m.write('FBA_toy3.ilp')  # \n",
    "\n",
    "\n",
    "     "
   ]
  },
  {
   "cell_type": "code",
   "execution_count": 100,
   "metadata": {},
   "outputs": [
    {
     "name": "stdout",
     "output_type": "stream",
     "text": [
      "Max v4 Flux -> 10.0\n",
      "------>\n"
     ]
    }
   ],
   "source": [
    "if d.status == GRB.OPTIMAL:\n",
    "    dobj = d.getObjective()\n",
    "    print('Max v4 Flux','->',dobj.getValue())\n",
    "    vari = d.getAttr('X',d.getVars())\n",
    "    d_duals = d.getAttr(\"Pi\", d.getConstrs())\n",
    "    print('------>')\n",
    "    #for i in range(len(reac)):\n",
    "        #print('flux:',reac[i],'->',var[i])"
   ]
  },
  {
   "cell_type": "code",
   "execution_count": 70,
   "metadata": {},
   "outputs": [
    {
     "data": {
      "text/plain": [
       "[0.0, -10.0, 0.0, 10.0, 10.0, 0.0, 0.0]"
      ]
     },
     "execution_count": 70,
     "metadata": {},
     "output_type": "execute_result"
    }
   ],
   "source": [
    "var"
   ]
  },
  {
   "cell_type": "code",
   "execution_count": 94,
   "metadata": {},
   "outputs": [],
   "source": [
    "l_values = vari[:len(l)]\n",
    "m_values = vari[len(l):len(l)+len(m)]\n",
    "p_values = vari[len(l)+len(m):len(l)+len(m)+len(p)]\n",
    "g_values = vari[len(l)+len(m)+len(p):len(l)+len(m)+len(p)+len(g)]\n",
    "o_values = vari[len(l)+len(m)+len(p)+len(g):len(l)+len(m)+len(p)+len(g)+len(o)]"
   ]
  },
  {
   "cell_type": "code",
   "execution_count": 95,
   "metadata": {},
   "outputs": [
    {
     "data": {
      "text/plain": [
       "[10.0, 0.0, 10.0, 10.0, 0.0, 0.0, 0.0]"
      ]
     },
     "execution_count": 95,
     "metadata": {},
     "output_type": "execute_result"
    }
   ],
   "source": [
    "g_values"
   ]
  },
  {
   "cell_type": "code",
   "execution_count": 96,
   "metadata": {},
   "outputs": [
    {
     "data": {
      "text/plain": [
       "[0.0, -10.0, 0.0, 10.0, 10.0, 0.0, 0.0]"
      ]
     },
     "execution_count": 96,
     "metadata": {},
     "output_type": "execute_result"
    }
   ],
   "source": [
    "var"
   ]
  },
  {
   "cell_type": "code",
   "execution_count": 128,
   "metadata": {},
   "outputs": [
    {
     "data": {
      "text/plain": [
       "[0, 0, 0, 1, 0, 0, 0]"
      ]
     },
     "execution_count": 128,
     "metadata": {},
     "output_type": "execute_result"
    }
   ],
   "source": [
    "ob"
   ]
  },
  {
   "cell_type": "code",
   "execution_count": 135,
   "metadata": {},
   "outputs": [],
   "source": [
    "def changecoeff(ob):\n",
    "    for i in range(len(ob)):\n",
    "        ob[i] = ob[i]*0\n",
    "    return ob"
   ]
  },
  {
   "cell_type": "code",
   "execution_count": 141,
   "metadata": {},
   "outputs": [
    {
     "data": {
      "text/plain": [
       "[0, 0, 0, 0, 0]"
      ]
     },
     "execution_count": 141,
     "metadata": {},
     "output_type": "execute_result"
    }
   ],
   "source": [
    "w = [1,0,0,0]\n",
    "w1 = [0,1,0,0,0]\n",
    "w2 = [0,0,1,0,0,0,0]\n",
    "\n",
    "#changecoeff(w)\n",
    "changecoeff(w1)\n",
    "#changecoeff(w2)"
   ]
  },
  {
   "cell_type": "code",
   "execution_count": null,
   "metadata": {},
   "outputs": [],
   "source": []
  },
  {
   "cell_type": "code",
   "execution_count": null,
   "metadata": {},
   "outputs": [],
   "source": []
  },
  {
   "cell_type": "code",
   "execution_count": null,
   "metadata": {},
   "outputs": [],
   "source": []
  }
 ],
 "metadata": {
  "kernelspec": {
   "display_name": "Python 3",
   "language": "python",
   "name": "python3"
  },
  "language_info": {
   "codemirror_mode": {
    "name": "ipython",
    "version": 3
   },
   "file_extension": ".py",
   "mimetype": "text/x-python",
   "name": "python",
   "nbconvert_exporter": "python",
   "pygments_lexer": "ipython3",
   "version": "3.8.3"
  }
 },
 "nbformat": 4,
 "nbformat_minor": 2
}
